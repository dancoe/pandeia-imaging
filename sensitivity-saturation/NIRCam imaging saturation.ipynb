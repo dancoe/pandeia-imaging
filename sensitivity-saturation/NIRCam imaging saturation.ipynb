{
 "cells": [
  {
   "cell_type": "markdown",
   "metadata": {},
   "source": [
    "# NIRCam Imaging Saturation"
   ]
  },
  {
   "cell_type": "markdown",
   "metadata": {},
   "source": [
    "Calculate saturation in each NIRCam filter in:\n",
    "* full detector\n",
    "* 64x64 subarray\n",
    "* 160x160 subarray with weak lens WLP8\n",
    "\n",
    "JDox: [NIRCam Bright Source Limits](https://jwst-docs.stsci.edu/jwst-near-infrared-camera/nircam-performance/nircam-bright-source-limits)\n",
    " \n",
    "*** \n",
    "<div class=\"alert alert-warning\">\n",
    "\n",
    "Requires installation of the JWST ETC Pandeia Python engine:\n",
    "    \n",
    "https://jwst-docs.stsci.edu/jwst-exposure-time-calculator-overview/jwst-etc-pandeia-engine-tutorial \n",
    "\n",
    "</div>\n",
    "\n",
    "***"
   ]
  },
  {
   "cell_type": "markdown",
   "metadata": {},
   "source": [
    "## Imports"
   ]
  },
  {
   "cell_type": "code",
   "execution_count": 1,
   "metadata": {},
   "outputs": [],
   "source": [
    "import os\n",
    "import numpy as np  \n",
    "#import json\n",
    "import astropy.io.ascii"
   ]
  },
  {
   "cell_type": "code",
   "execution_count": 3,
   "metadata": {},
   "outputs": [],
   "source": [
    "from pandeia.engine.perform_calculation import perform_calculation\n",
    "from pandeia.engine.calc_utils import build_default_calc"
   ]
  },
  {
   "cell_type": "code",
   "execution_count": 13,
   "metadata": {},
   "outputs": [
    {
     "data": {
      "text/html": [
       "<div><i>Table length=29</i>\n",
       "<table id=\"table140209904231184\" class=\"table-striped table-bordered table-condensed\">\n",
       "<thead><tr><th>filter</th><th>center</th><th>bandwidth</th><th>response</th><th>lambda1</th><th>lambda2</th></tr></thead>\n",
       "<thead><tr><th>str6</th><th>float64</th><th>float64</th><th>float64</th><th>float64</th><th>float64</th></tr></thead>\n",
       "<tr><td>F070W</td><td>0.704</td><td>0.128</td><td>0.237</td><td>0.624</td><td>0.781</td></tr>\n",
       "<tr><td>F090W</td><td>0.901</td><td>0.194</td><td>0.318</td><td>0.795</td><td>1.005</td></tr>\n",
       "<tr><td>F115W</td><td>1.154</td><td>0.225</td><td>0.333</td><td>1.013</td><td>1.282</td></tr>\n",
       "<tr><td>F140M</td><td>1.404</td><td>0.142</td><td>0.434</td><td>1.331</td><td>1.479</td></tr>\n",
       "<tr><td>F150W</td><td>1.501</td><td>0.318</td><td>0.476</td><td>1.331</td><td>1.668</td></tr>\n",
       "<tr><td>F162M</td><td>1.626</td><td>0.168</td><td>0.469</td><td>1.542</td><td>1.713</td></tr>\n",
       "<tr><td>F164N</td><td>1.644</td><td>0.02</td><td>0.385</td><td>1.635</td><td>1.653</td></tr>\n",
       "<tr><td>F150W2</td><td>1.671</td><td>1.227</td><td>0.489</td><td>1.007</td><td>2.38</td></tr>\n",
       "<tr><td>F182M</td><td>1.845</td><td>0.238</td><td>0.505</td><td>1.722</td><td>1.968</td></tr>\n",
       "<tr><td>F187N</td><td>1.874</td><td>0.024</td><td>0.434</td><td>1.863</td><td>1.885</td></tr>\n",
       "<tr><td>F200W</td><td>1.99</td><td>0.461</td><td>0.525</td><td>1.755</td><td>2.227</td></tr>\n",
       "<tr><td>F210M</td><td>2.093</td><td>0.205</td><td>0.522</td><td>1.992</td><td>2.201</td></tr>\n",
       "<tr><td>F212N</td><td>2.12</td><td>0.027</td><td>0.42</td><td>2.109</td><td>2.134</td></tr>\n",
       "<tr><td>F250M</td><td>2.503</td><td>0.181</td><td>0.37</td><td>2.412</td><td>2.595</td></tr>\n",
       "<tr><td>F277W</td><td>2.786</td><td>0.672</td><td>0.412</td><td>2.423</td><td>3.132</td></tr>\n",
       "<tr><td>F300M</td><td>2.996</td><td>0.318</td><td>0.432</td><td>2.831</td><td>3.157</td></tr>\n",
       "<tr><td>F322W2</td><td>3.247</td><td>1.339</td><td>0.499</td><td>2.432</td><td>4.013</td></tr>\n",
       "<tr><td>F323N</td><td>3.237</td><td>0.038</td><td>0.29</td><td>3.217</td><td>3.255</td></tr>\n",
       "<tr><td>F335M</td><td>3.365</td><td>0.347</td><td>0.48</td><td>3.177</td><td>3.537</td></tr>\n",
       "<tr><td>F356W</td><td>3.563</td><td>0.787</td><td>0.53</td><td>3.135</td><td>3.981</td></tr>\n",
       "<tr><td>F360M</td><td>3.621</td><td>0.372</td><td>0.515</td><td>3.426</td><td>3.814</td></tr>\n",
       "<tr><td>F405N</td><td>4.055</td><td>0.046</td><td>0.418</td><td>4.03</td><td>4.076</td></tr>\n",
       "<tr><td>F410M</td><td>4.092</td><td>0.436</td><td>0.499</td><td>3.866</td><td>4.302</td></tr>\n",
       "<tr><td>F430M</td><td>4.28</td><td>0.228</td><td>0.526</td><td>4.167</td><td>4.398</td></tr>\n",
       "<tr><td>F444W</td><td>4.421</td><td>1.024</td><td>0.533</td><td>3.881</td><td>4.982</td></tr>\n",
       "<tr><td>F460M</td><td>4.624</td><td>0.228</td><td>0.46</td><td>4.515</td><td>4.747</td></tr>\n",
       "<tr><td>F466N</td><td>4.654</td><td>0.054</td><td>0.32</td><td>4.629</td><td>4.681</td></tr>\n",
       "<tr><td>F470N</td><td>4.707</td><td>0.051</td><td>0.316</td><td>4.683</td><td>4.733</td></tr>\n",
       "<tr><td>F480M</td><td>4.834</td><td>0.303</td><td>0.447</td><td>4.662</td><td>4.973</td></tr>\n",
       "</table></div>"
      ],
      "text/plain": [
       "<Table length=29>\n",
       "filter  center bandwidth response lambda1 lambda2\n",
       " str6  float64  float64  float64  float64 float64\n",
       "------ ------- --------- -------- ------- -------\n",
       " F070W   0.704     0.128    0.237   0.624   0.781\n",
       " F090W   0.901     0.194    0.318   0.795   1.005\n",
       " F115W   1.154     0.225    0.333   1.013   1.282\n",
       " F140M   1.404     0.142    0.434   1.331   1.479\n",
       " F150W   1.501     0.318    0.476   1.331   1.668\n",
       " F162M   1.626     0.168    0.469   1.542   1.713\n",
       " F164N   1.644      0.02    0.385   1.635   1.653\n",
       "F150W2   1.671     1.227    0.489   1.007    2.38\n",
       " F182M   1.845     0.238    0.505   1.722   1.968\n",
       " F187N   1.874     0.024    0.434   1.863   1.885\n",
       " F200W    1.99     0.461    0.525   1.755   2.227\n",
       " F210M   2.093     0.205    0.522   1.992   2.201\n",
       " F212N    2.12     0.027     0.42   2.109   2.134\n",
       " F250M   2.503     0.181     0.37   2.412   2.595\n",
       " F277W   2.786     0.672    0.412   2.423   3.132\n",
       " F300M   2.996     0.318    0.432   2.831   3.157\n",
       "F322W2   3.247     1.339    0.499   2.432   4.013\n",
       " F323N   3.237     0.038     0.29   3.217   3.255\n",
       " F335M   3.365     0.347     0.48   3.177   3.537\n",
       " F356W   3.563     0.787     0.53   3.135   3.981\n",
       " F360M   3.621     0.372    0.515   3.426   3.814\n",
       " F405N   4.055     0.046    0.418    4.03   4.076\n",
       " F410M   4.092     0.436    0.499   3.866   4.302\n",
       " F430M    4.28     0.228    0.526   4.167   4.398\n",
       " F444W   4.421     1.024    0.533   3.881   4.982\n",
       " F460M   4.624     0.228     0.46   4.515   4.747\n",
       " F466N   4.654     0.054     0.32   4.629   4.681\n",
       " F470N   4.707     0.051    0.316   4.683   4.733\n",
       " F480M   4.834     0.303    0.447   4.662   4.973"
      ]
     },
     "execution_count": 13,
     "metadata": {},
     "output_type": "execute_result"
    }
   ],
   "source": [
    "filter_table = astropy.io.ascii.read('NIRCam_filters.txt', format='commented_header', header_start=-1)\n",
    "filter_table"
   ]
  },
  {
   "cell_type": "code",
   "execution_count": 19,
   "metadata": {},
   "outputs": [
    {
     "data": {
      "text/plain": [
       "['f070w',\n",
       " 'f090w',\n",
       " 'f115w',\n",
       " 'f140m',\n",
       " 'f150w',\n",
       " 'f162m',\n",
       " 'f164n',\n",
       " 'f150w2',\n",
       " 'f182m',\n",
       " 'f187n',\n",
       " 'f200w',\n",
       " 'f210m',\n",
       " 'f212n',\n",
       " 'f250m',\n",
       " 'f277w',\n",
       " 'f300m',\n",
       " 'f322w2',\n",
       " 'f323n',\n",
       " 'f335m',\n",
       " 'f356w',\n",
       " 'f360m',\n",
       " 'f405n',\n",
       " 'f410m',\n",
       " 'f430m',\n",
       " 'f444w',\n",
       " 'f460m',\n",
       " 'f466n',\n",
       " 'f470n',\n",
       " 'f480m']"
      ]
     },
     "execution_count": 19,
     "metadata": {},
     "output_type": "execute_result"
    }
   ],
   "source": [
    "filters = list(filter_table['filter'])\n",
    "filters = [filt.lower() for filt in filters]\n",
    "filters"
   ]
  },
  {
   "cell_type": "code",
   "execution_count": 10,
   "metadata": {},
   "outputs": [],
   "source": [
    "#WLP8_TS_filters  = '      F140M F150W F182M F187N F200W F210M F212N'.split()  # Time Series Imaging\n",
    "#WLP8_GTS_filters = 'F070W F140M       F182M F187N       F210M F212N'.split()  # Grism Time Series Imaging\n",
    "wl_filters = 'f070w f140m f150w f182m f187n f200w f210m f212n'.split()"
   ]
  },
  {
   "cell_type": "code",
   "execution_count": 25,
   "metadata": {},
   "outputs": [],
   "source": [
    "def check_for_saturation(filt, mag, weak_lens=False):\n",
    "    global calculation\n",
    "    calculation['configuration']['instrument']['filter'] = filt.lower()\n",
    "    calculation['scene'][0]['spectrum']['normalization']['norm_flux'] = mag\n",
    "    \n",
    "    lam = int(filt[1:4]) / 100.  # good enough here\n",
    "    channel = ['sw', 'lw'][lam > 2.4]\n",
    "    calculation['configuration']['instrument']['mode'] = channel + '_ts'  # time-series imaging\n",
    "    if weak_lens:\n",
    "        if filt == 'f070w':\n",
    "            calculation['configuration']['instrument']['aperture'] = 'wlp8__tsgrism'\n",
    "        else:\n",
    "            calculation['configuration']['instrument']['aperture'] = 'wlp8__ts'\n",
    "    else:\n",
    "        calculation['configuration']['instrument']['aperture'] = channel\n",
    "\n",
    "    results = perform_calculation(calculation)\n",
    "    sat = results['1d']['n_full_saturated'][1][0]\n",
    "    return sat"
   ]
  },
  {
   "cell_type": "markdown",
   "metadata": {},
   "source": [
    "## Test calculation\n",
    "\n",
    "https://jwst-docs.stsci.edu/jwst-exposure-time-calculator-overview/jwst-etc-pandeia-engine-tutorial/pandeia-quickstart#PandeiaQuickstart-Observingmodes\n",
    "\n",
    "config_jwst.js file lists all available options"
   ]
  },
  {
   "cell_type": "code",
   "execution_count": 8,
   "metadata": {},
   "outputs": [],
   "source": [
    "#calculation = build_default_calc(\"jwst\", \"nircam\", \"sw_imaging\")\n",
    "calculation = build_default_calc(\"jwst\", \"nircam\", \"sw_ts\")\n",
    "\n",
    "#calculation['configuration']['detector']['subarray'] = 'sub64p'\n",
    "calculation['configuration']['detector']['subarray'] = 'sub160p'  # weak lens WLP8\n",
    "#calculation['configuration']['detector']['subarray'] = 'full'\n",
    "\n",
    "calculation['configuration']['instrument']['aperture'] = 'wlp8__ts'\n",
    "#calculation['configuration']['instrument']['aperture'] = 'sw'\n",
    "\n",
    "calculation['configuration']['detector']['readout_pattern'] = 'rapid'\n",
    "calculation['configuration']['detector']['ngroup'] = 2\n",
    "calculation['configuration']['detector']['nint'] = 1\n",
    "calculation['configuration']['detector']['nexp'] = 1\n",
    "\n",
    "calculation['configuration']['instrument']['filter'] = 'f200w'\n",
    "\n",
    "calculation['scene'][0]['spectrum']['sed'] = {'key':'g2v', 'sed_type':'phoenix'}\n",
    "\n",
    "calculation['scene'][0]['spectrum']['normalization'] = {'type':'photsys',\n",
    "                                                       'norm_fluxunit':'vegamag',\n",
    "                                                        'bandpass':'bessell,k'}\n",
    "mag = 3  # F200W WLP8 SUB160P\n",
    "#mag = 13  # F200W FULL\n",
    "calculation['scene'][0]['spectrum']['normalization']['norm_flux'] = mag\n",
    "\n",
    "calculation['strategy']['background_subtraction'] = False"
   ]
  },
  {
   "cell_type": "code",
   "execution_count": 9,
   "metadata": {},
   "outputs": [
    {
     "name": "stderr",
     "output_type": "stream",
     "text": [
      "/Users/dcoe/miniconda3/envs/pandeia_dev_11_07_2022/lib/python3.8/site-packages/pandeia.engine-1.8.dev0-py3.8.egg/pandeia/engine/report.py:637: RuntimeWarning: divide by zero encountered in double_scalars\n",
      "  self.r['scalar']['sn'] = signal/noise\n",
      "/Users/dcoe/miniconda3/envs/pandeia_dev_11_07_2022/lib/python3.8/site-packages/pandeia.engine-1.8.dev0-py3.8.egg/pandeia/engine/report.py:921: RuntimeWarning: divide by zero encountered in log\n",
      "  if np.log(abs(val)) < -1*precision and val != 0.0:\n"
     ]
    },
    {
     "data": {
      "text/plain": [
       "16"
      ]
     },
     "execution_count": 9,
     "metadata": {},
     "output_type": "execute_result"
    }
   ],
   "source": [
    "results = perform_calculation(calculation)\n",
    "#results['1d']\n",
    "lam, sat = results['1d']['n_full_saturated']\n",
    "sat[0]"
   ]
  },
  {
   "cell_type": "markdown",
   "metadata": {},
   "source": [
    "# Calculate saturation in each filter"
   ]
  },
  {
   "cell_type": "code",
   "execution_count": 38,
   "metadata": {},
   "outputs": [],
   "source": [
    "def calculate_saturations(filters, subarray, weak_lens=False, save_output=True, verbose=False):\n",
    "    # Converge on saturation magnitude splitting the difference by 2 each time\n",
    "    v2_sat_mags = []\n",
    "    tolerance = 0.01\n",
    "    calculation['configuration']['detector']['subarray'] = subarray\n",
    "    for filt in filters:\n",
    "        if verbose: print(filt)\n",
    "        mag  = 5\n",
    "        dmag = 10\n",
    "        sat0 = check_for_saturation(filt, mag, weak_lens)\n",
    "        sat = sat0\n",
    "        if verbose: print(sat, mag)\n",
    "        while dmag > tolerance / 4:\n",
    "            dmag_sign = [-1, 1][sat > 0]\n",
    "            mag += dmag_sign * dmag\n",
    "            sat = check_for_saturation(filt, mag, weak_lens)\n",
    "            if verbose: print(sat, mag)\n",
    "            dmag /= 2\n",
    "        v2_sat_mags.append(mag)\n",
    "        if verbose:\n",
    "            print('--------------')\n",
    "        else:\n",
    "            print(filt.ljust(7), '%5.2f' % mag)\n",
    "\n",
    "    if save_output:\n",
    "        outfile = 'nircam_saturation_%s' % subarray\n",
    "        if weak_lens:\n",
    "            outfile += '_wlp8'\n",
    "        outfile += '.txt'\n",
    "        print('SAVING', outfile)\n",
    "        astropy.io.ascii.write([filters, v2_sat_mags], outfile, names='filt mag'.split())\n",
    "        \n",
    "    return v2_sat_mags"
   ]
  },
  {
   "cell_type": "code",
   "execution_count": 40,
   "metadata": {},
   "outputs": [
    {
     "name": "stderr",
     "output_type": "stream",
     "text": [
      "/Users/dcoe/miniconda3/envs/pandeia_dev_11_07_2022/lib/python3.8/site-packages/pandeia.engine-1.8.dev0-py3.8.egg/pandeia/engine/report.py:637: RuntimeWarning: divide by zero encountered in double_scalars\n",
      "  self.r['scalar']['sn'] = signal/noise\n",
      "/Users/dcoe/miniconda3/envs/pandeia_dev_11_07_2022/lib/python3.8/site-packages/pandeia.engine-1.8.dev0-py3.8.egg/pandeia/engine/report.py:921: RuntimeWarning: divide by zero encountered in log\n",
      "  if np.log(abs(val)) < -1*precision and val != 0.0:\n",
      "/var/folders/y3/vsjr6j554mnfpgy_m1xrnckm0003tz/T/ipykernel_87091/2787465782.py:14: DeprecationWarning: In future, it will be an error for 'np.bool_' scalars to be interpreted as an index\n",
      "  dmag_sign = [-1, 1][sat > 0]\n"
     ]
    },
    {
     "name": "stdout",
     "output_type": "stream",
     "text": [
      "f070w   10.15\n",
      "f090w   10.44\n",
      "f115w   10.36\n",
      "f140m    9.47\n",
      "f150w   10.23\n",
      "f162m    9.29\n",
      "f164n    6.87\n",
      "f150w2  11.59\n",
      "f182m    9.13\n",
      "f187n    6.48\n",
      "f200w    9.55\n",
      "f210m    8.39\n",
      "f212n    6.04\n",
      "f250m    8.63\n",
      "f277w    9.77\n",
      "f300m    8.61\n",
      "f322w2  10.25\n",
      "f323n    5.59\n",
      "f335m    8.28\n",
      "f356w    9.01\n",
      "f360m    8.05\n",
      "f405n    5.03\n",
      "f410m    7.56\n",
      "f430m    6.67\n",
      "f444w    8.25\n",
      "f460m    6.11\n",
      "f466n    4.14\n",
      "f470n    4.00\n",
      "f480m    6.24\n",
      "SAVING nircam_saturation_sub64p.txt\n"
     ]
    }
   ],
   "source": [
    "v2_sat_mags = calculate_saturations(filters, 'sub64p', False)"
   ]
  },
  {
   "cell_type": "code",
   "execution_count": 36,
   "metadata": {},
   "outputs": [
    {
     "name": "stderr",
     "output_type": "stream",
     "text": [
      "/var/folders/y3/vsjr6j554mnfpgy_m1xrnckm0003tz/T/ipykernel_87091/2018796526.py:15: DeprecationWarning: In future, it will be an error for 'np.bool_' scalars to be interpreted as an index\n",
      "  dmag_sign = [-1, 1][sat > 0]\n"
     ]
    },
    {
     "name": "stdout",
     "output_type": "stream",
     "text": [
      "f070w   15.98\n",
      "f090w   16.27\n",
      "f115w   16.19\n",
      "f140m   15.29\n",
      "f150w   16.06\n",
      "f162m   15.12\n",
      "f164n   12.69\n",
      "f150w2  17.41\n",
      "f182m   14.96\n",
      "f187n   12.30\n",
      "f200w   15.38\n",
      "f210m   14.22\n",
      "f212n   11.87\n",
      "f250m   14.46\n",
      "f277w   15.60\n",
      "f300m   14.43\n",
      "f322w2  16.08\n",
      "f323n   11.42\n",
      "f335m   14.11\n",
      "f356w   14.84\n",
      "f360m   13.88\n",
      "f405n   10.85\n",
      "f410m   13.39\n",
      "f430m   12.50\n",
      "f444w   14.07\n",
      "f460m   11.94\n",
      "f466n    9.96\n",
      "f470n    9.83\n",
      "f480m   12.06\n",
      "SAVING nircam_saturation_full.txt\n"
     ]
    }
   ],
   "source": [
    "v2_sat_mags = calculate_saturations(filters, 'full', False)"
   ]
  },
  {
   "cell_type": "code",
   "execution_count": 39,
   "metadata": {},
   "outputs": [
    {
     "name": "stderr",
     "output_type": "stream",
     "text": [
      "/Users/dcoe/miniconda3/envs/pandeia_dev_11_07_2022/lib/python3.8/site-packages/pandeia.engine-1.8.dev0-py3.8.egg/pandeia/engine/report.py:921: RuntimeWarning: divide by zero encountered in log\n",
      "  if np.log(abs(val)) < -1*precision and val != 0.0:\n",
      "/var/folders/y3/vsjr6j554mnfpgy_m1xrnckm0003tz/T/ipykernel_87091/2787465782.py:14: DeprecationWarning: In future, it will be an error for 'np.bool_' scalars to be interpreted as an index\n",
      "  dmag_sign = [-1, 1][sat > 0]\n",
      "/Users/dcoe/miniconda3/envs/pandeia_dev_11_07_2022/lib/python3.8/site-packages/pandeia.engine-1.8.dev0-py3.8.egg/pandeia/engine/report.py:637: RuntimeWarning: divide by zero encountered in double_scalars\n",
      "  self.r['scalar']['sn'] = signal/noise\n"
     ]
    },
    {
     "name": "stdout",
     "output_type": "stream",
     "text": [
      "f070w    1.89\n",
      "f140m    2.54\n",
      "f150w    3.43\n",
      "f182m    2.82\n",
      "f187n    0.40\n",
      "f200w    3.50\n",
      "f210m    2.62\n",
      "f212n    0.33\n",
      "SAVING nircam_saturation_sub160p_wlp8.txt\n"
     ]
    }
   ],
   "source": [
    "v2_sat_mags = calculate_saturations(wl_filters, 'sub160p', True)"
   ]
  },
  {
   "cell_type": "code",
   "execution_count": null,
   "metadata": {},
   "outputs": [],
   "source": []
  }
 ],
 "metadata": {
  "kernelspec": {
   "display_name": "Python 3 (ipykernel)",
   "language": "python",
   "name": "python3"
  },
  "language_info": {
   "codemirror_mode": {
    "name": "ipython",
    "version": 3
   },
   "file_extension": ".py",
   "mimetype": "text/x-python",
   "name": "python",
   "nbconvert_exporter": "python",
   "pygments_lexer": "ipython3",
   "version": "3.8.13"
  }
 },
 "nbformat": 4,
 "nbformat_minor": 1
}
